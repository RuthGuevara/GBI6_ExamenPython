{
 "cells": [
  {
   "cell_type": "markdown",
   "metadata": {},
   "source": [
    "<img src=\"https://www.ikiam.edu.ec/img/logo-ikiam-grey.png\" width=300 height=240 />\n",
    "\n",
    "# EXAMEN PARCIAL PYTHON\n",
    "    \n",
    "\n",
    "## GBI6-2021II: BIOINFORMÁTICA\n",
    "\n",
    "#### **GUEVARA ZAMBRANO RUTH ALEXANDRA**\n",
    "**22-02-2022**"
   ]
  },
  {
   "cell_type": "markdown",
   "metadata": {},
   "source": [
    "### REQUERIMIENTOS PARA EL EXAMEN\n",
    "Para este examen se requiere dos documentos: \n",
    "\n",
    "1. Archivo ```miningscience.py``` donde tendrá dos funciones:\n",
    "\n",
    "2. Archivo ```2021II_GBI6_ExamenParcialPython``` donde se llamará las funciones y se obtendrá resultados."
   ]
  },
  {
   "cell_type": "markdown",
   "metadata": {},
   "source": [
    "## Ejercicio 1 [2 puntos]\n",
    "Cree el archivo ```miningscience.py``` con las siguientes dos funciones:\n",
    "    \n",
    "i. ```download_pubmed```: para descargar la data de PubMed utilizando el **ENTREZ** de Biopython. El parámetro de entrada para la función es el ```keyword```. \n",
    "    \n",
    "ii. ```mining_pubs```: esta función debe utilizar el módulo **re** y utilizar el párametro ```tipo``` para realizar lo siguiente:\n",
    "        \n",
    "* Si el tipo es \"DP\" recupera el año de publicación del artículo. El retorno es un *dataframe* con el **PMID** y el **DP_year**.\n",
    "      \n",
    "* Si el tipo es \"AU\" recupera el número de autores por **PMID**. El retorno es un *dataframe* con el **PMID** y el **num_auth**. \n",
    "      \n",
    "* Si el tipo es \"AD\" recupera el conteo de autores por país. El retorno es un *dataframe* con el **country** y el **num_auth**. \n",
    "\n",
    "* *Puede utilizar un ```if``` dentro de la función.* \n",
    "\n",
    "* *Cree un docstring para cada función.* \n",
    "\n",
    "Luego de crear las funciones, cargue el módulo ```miningscience``` como ```msc``` e imprima docstring de cada función.\n",
    "\n",
    "\n"
   ]
  },
  {
   "cell_type": "code",
   "execution_count": 22,
   "metadata": {},
   "outputs": [
    {
     "name": "stdout",
     "output_type": "stream",
     "text": [
      "Help on function download_pubmed in module __main__:\n",
      "\n",
      "download_pubmed(keyword)\n",
      "    Busqueda en pubmed ID\n",
      "\n",
      "Help on function mining_pubs in module __main__:\n",
      "\n",
      "mining_pubs(tipo)\n",
      "    Pide tres variables \"DP\", \"AU\" y \"AD\" y como resultado tenemos una dataframe\n",
      "\n"
     ]
    }
   ],
   "source": [
    "def download_pubmed (keyword):\n",
    "    \"\"\"\n",
    "    Busqueda en pubmed ID\n",
    "    \"\"\"\n",
    "    from Bio import Entrez\n",
    "    from Bio import SeqIO\n",
    "    from Bio import GenBank \n",
    "    Entrez.email = 'ruth.guevara@est.ikiam.edu.ec'\n",
    "    handle = Entrez.esearch(db='pubmed',\n",
    "                        sort='relevance',\n",
    "                        retmax='200',\n",
    "                        retmode='xml',\n",
    "                        term=keyword)\n",
    "    results = Entrez.read(handle)\n",
    "    id_list = results[\"IdList\"]\n",
    "    ids = ','.join(id_list)\n",
    "    Entrez.email = 'ruth.guevara@est.ikiam.edu.ec'\n",
    "    handle = Entrez.efetch(db='pubmed',\n",
    "                       retmode='xml',\n",
    "                       id=ids)\n",
    "    lista_id = ids.split(\",\")\n",
    "    return (lista_id) \n",
    "\n",
    "\n",
    "import csv \n",
    "import re\n",
    "import pandas as pd \n",
    "from collections import Counter\n",
    "\n",
    "def mining_pubs(tipo):\n",
    "    \"\"\"\n",
    "    Pide tres variables \"DP\", \"AU\" y \"AD\" y como resultado tenemos una dataframe\n",
    "    \"\"\"\n",
    "    with open(\"pubmed-EcuadorGen-set.txt\", errors=\"ignore\") as f: \n",
    "        texto = f.read() \n",
    "    if tipo == \"DP\":\n",
    "        PMID = re.findall(\"PMID- (\\d*)\", texto) \n",
    "        year = re.findall(\"DP\\s{2}-\\s(\\d{4})\", texto)\n",
    "        pmid_y = pd.DataFrame()\n",
    "        pmid_y[\"PMID\"] = PMID\n",
    "        pmid_y[\"Año de publicación\"] = year\n",
    "        return (pmid_y)\n",
    "    elif tipo == \"AU\": \n",
    "        PMID = re.findall(\"PMID- (\\d*)\", texto) \n",
    "        autores = texto.split(\"PMID- \")\n",
    "        autores.pop(0)\n",
    "        num_autores = []\n",
    "        for i in range(len(autores)):\n",
    "            numero = re.findall(\"AU -\", autores[i])\n",
    "            n = (len(numero))\n",
    "            num_autores.append(n)\n",
    "        pmid_a = pd.DataFrame()\n",
    "        pmid_a[\"PMID\"] = PMID \n",
    "        pmid_a[\"Numero de autores\"] = num_autores\n",
    "        return (pmid_a)\n",
    "    elif tipo == \"AD\": \n",
    "        texto = re.sub(r\" [A-Z]{1}\\.\",\"\", texto)\n",
    "        texto = re.sub(r\"Av\\.\",\"\", texto)\n",
    "        texto = re.sub(r\"Vic\\.\",\"\", texto)\n",
    "        texto = re.sub(r\"Tas\\.\",\"\", texto)\n",
    "        AD = texto.split(\"AD  - \")\n",
    "        n_paises = []\n",
    "        for i in range(len(AD)): \n",
    "            pais = re.findall(\"\\S, ([A-Za-z]*)\\.\", AD[i])\n",
    "            if not pais == []: \n",
    "                if not len(pais) >= 2:  \n",
    "                    if re.findall(\"^[A-Z]\", pais[0]): \n",
    "                        n_paises.append(pais[0])\n",
    "        conteo=Counter(n_paises)\n",
    "        resultado = {}\n",
    "        for clave in conteo:\n",
    "            valor = conteo[clave]\n",
    "            if valor != 1: \n",
    "                resultado[clave] = valor \n",
    "        veces_pais = pd.DataFrame()\n",
    "        veces_pais[\"pais\"] = resultado.keys()\n",
    "        veces_pais[\"numero de autores\"] = resultado.values()\n",
    "        return (veces_pais)\n",
    "\n",
    "import miningscience as msc \n",
    "help(download_pubmed)\n",
    "help(mining_pubs)\n"
   ]
  },
  {
   "cell_type": "markdown",
   "metadata": {},
   "source": [
    "\n",
    "## Ejercicio 2 [1 punto]\n",
    "\n",
    "\n",
    "Utilice la función ```download_pubmed``` para descargar la data con el keyword ```Ecuador genomics``` e imprima lo siguiente: \n",
    "\n",
    "```python\n",
    "'El número de artículos es: xx' # xx corresponde al número de artículos recuperados\n",
    "\n",
    "'El PMID del primer artículo es: xxxxxxxx' # xxxxxxxx corresponde al ID del artículo en PUDMED\n",
    "\n",
    "```"
   ]
  },
  {
   "cell_type": "code",
   "execution_count": 23,
   "metadata": {},
   "outputs": [
    {
     "name": "stdout",
     "output_type": "stream",
     "text": [
      "El numero de articulos es: 193\n",
      "El PMID del primer articulo es: 31822297\n"
     ]
    }
   ],
   "source": [
    "journals = download_pubmed(\"Ecuador Genomics\")\n",
    "\n",
    "print (\"El numero de articulos es:\", len(journals)) \n",
    "\n",
    "print (\"El PMID del primer articulo es:\", journals[0])"
   ]
  },
  {
   "cell_type": "markdown",
   "metadata": {},
   "source": [
    "## Ejercicio 3 [1 punto]\n",
    "\n",
    "Utilice la función ```mining_pubs``` para crear los siguientes dataframes: \n",
    "\n",
    "* pub_year\n",
    "\n",
    "* pub_authors\n",
    "\n",
    "* coutries\n",
    "\n",
    "Muestre los dos primeros y los dos últimos registros de cada dataframe. "
   ]
  },
  {
   "cell_type": "code",
   "execution_count": 24,
   "metadata": {},
   "outputs": [
    {
     "name": "stdout",
     "output_type": "stream",
     "text": [
      "       PMID Año de publicación\n",
      "0  19844075               2010\n",
      "1  31822297               2019\n",
      "         PMID Año de publicación\n",
      "559  22828899               2012\n",
      "560  21789512               2012\n",
      "561  16530714               2006\n",
      "562  35047841               2021\n",
      "563  27777646               2016\n",
      "..        ...                ...\n",
      "823  32917887               2020\n",
      "824  33634602               2021\n",
      "825  28785301               2017\n",
      "826  27429642               2016\n",
      "827  31891233               2020\n",
      "\n",
      "[269 rows x 2 columns]\n",
      "       PMID  Numero de autores\n",
      "0  19844075                  2\n",
      "1  31822297                  3\n",
      "         PMID  Numero de autores\n",
      "559  22828899                  6\n",
      "560  21789512                 13\n",
      "561  16530714                  9\n",
      "562  35047841                  9\n",
      "563  27777646                 12\n",
      "..        ...                ...\n",
      "823  32917887                 30\n",
      "824  33634602                102\n",
      "825  28785301                173\n",
      "826  27429642                173\n",
      "827  31891233                728\n",
      "\n",
      "[269 rows x 2 columns]\n",
      "      pais  numero de autores\n",
      "0  Ecuador               1205\n",
      "1  Belgium                 90\n",
      "        pais  numero de autores\n",
      "110  Lebanon                  2\n",
      "111   Zambia                  2\n",
      "112   Jordan                  2\n",
      "113   Latvia                  2\n",
      "114  Vietnam                  3\n",
      "115    Korea                  2\n"
     ]
    }
   ],
   "source": [
    "import miningscience as msc\n",
    "pub_año = msc.mining_pubs(\"DP\")\n",
    "print (pub_año.iloc[0:2])\n",
    "print (pub_año.iloc[559:])\n",
    "pub_autor = msc.mining_pubs(\"AU\")\n",
    "print (pub_autor.iloc[0:2])\n",
    "print (pub_autor.iloc[559:])\n",
    "countries = msc.mining_pubs(\"AD\")\n",
    "print (countries.iloc[0:2])\n",
    "print (countries.iloc[110:])"
   ]
  },
  {
   "cell_type": "markdown",
   "metadata": {
    "jp-MarkdownHeadingCollapsed": true,
    "tags": []
   },
   "source": [
    "## Ejercicio 4 [2 puntos]\n",
    "\n",
    "Realice la visualización de los datos del ejercicio 3. \n",
    "\n",
    "* ```pubyear```: utilizando el conteo artículos por año, calcule la media y la desviación estandar (asumiendo que la distribución es normal). Realice un gráfico de la distribución normal de sus datos. Coloque el título, leyenda de los ejes \"x\" e \"y\", y la leyenda de la curva (utilice las expresiones matemáticas tipos latex de ser necesario). \n",
    "\n",
    "* ```pub_authors```: realice un boxplot del conteo de autores por artículo. Coloque las leyendas adecuadas para cada eje y el título.  \n",
    "\n",
    "* ```countries```: realice una nube de puntos (adaptación de su tarea), resalte al menos 3 países con flechas. Coloque las leyendas adecuadas para cada eje y el título. \n"
   ]
  },
  {
   "cell_type": "code",
   "execution_count": 28,
   "metadata": {},
   "outputs": [
    {
     "name": "stdout",
     "output_type": "stream",
     "text": [
      "Media:  2014.87077294686\n",
      "Desviación estandar:  6.804327940706898\n"
     ]
    },
    {
     "data": {
      "text/plain": [
       "Text(0, 0.5, 'REPETICIONES')"
      ]
     },
     "execution_count": 28,
     "metadata": {},
     "output_type": "execute_result"
    },
    {
     "data": {
      "image/png": "[encoded data removed]",
      "text/plain": [
       "<Figure size 432x288 with 1 Axes>"
      ]
     },
     "metadata": {
      "needs_background": "light"
     },
     "output_type": "display_data"
    }
   ],
   "source": [
    "import numpy as np\n",
    "import scipy.stats as stats\n",
    "import csv as csv\n",
    "import pandas as pd \n",
    "import matplotlib.pyplot as plot\n",
    "from collections import Counter\n",
    "pub_año[\"Año de publicación\"] = pub_año[\"Año de publicación\"].astype(\"int\")\n",
    "mean_py = pub_año[\"Año de publicación\"].mean()\n",
    "sd_py = pub_año[\"Año de publicación\"].std()\n",
    "print (\"Media: \", mean_py)\n",
    "print (\"Desviación estandar: \", sd_py)\n",
    "\n",
    "#print ([\"Año de publicación\"])\n",
    "intervalos = range(min(pub_año[\"Año de publicación\"]), max(pub_año[\"Año de publicación\"]))\n",
    "plot.hist(x=pub_año[\"Año de publicación\"], color = \"lightcoral\")\n",
    "plot.title(\"Articulos por Año\", color =\"olive\")\n",
    "plot.xlabel(\"Año\")\n",
    "plot.ylabel(\"REPETICIONES\", color =\"olive\")\n",
    "   "
   ]
  },
  {
   "cell_type": "code",
   "execution_count": 29,
   "metadata": {},
   "outputs": [
    {
     "name": "stdout",
     "output_type": "stream",
     "text": [
      "         PMID  Numero de autores\n",
      "0    19844075                  2\n",
      "1    31822297                  3\n",
      "2    29632024                 33\n",
      "3    32623267                 15\n",
      "4    27577878                 93\n",
      "..        ...                ...\n",
      "823  32917887                 30\n",
      "824  33634602                102\n",
      "825  28785301                173\n",
      "826  27429642                173\n",
      "827  31891233                728\n",
      "\n",
      "[828 rows x 2 columns]\n"
     ]
    },
    {
     "data": {
      "image/png": "[encoded data removed]",
      "text/plain": [
       "<Figure size 432x288 with 1 Axes>"
      ]
     },
     "metadata": {
      "needs_background": "light"
     },
     "output_type": "display_data"
    }
   ],
   "source": [
    "boxplot = pub_autor[0:559].boxplot(column=[\"Numero de autores\"])\n",
    "plot.title(\"# AUTORES POR ARTUCULOS\", color =\"maroon\")\n",
    "plot.ylabel(\"FRECUENCIA\", color =\"maroon\")\n",
    "print (pub_autor)"
   ]
  },
  {
   "cell_type": "code",
   "execution_count": 30,
   "metadata": {},
   "outputs": [
    {
     "data": {
      "image/png": "[encoded data removed]",
      "text/plain": [
       "<Figure size 1296x864 with 2 Axes>"
      ]
     },
     "metadata": {
      "needs_background": "light"
     },
     "output_type": "display_data"
    }
   ],
   "source": [
    "countries = countries.sort_values(\"numero de autores\")\n",
    "max_pais = (countries[112:])\n",
    "\n",
    "countries_lat = [39.399872, 4.570868, 41.87194, 46.227638, 51.165691, 55.378051, \n",
    "                40.463667, -14.235004, 37.09024, -1.831239  ] \n",
    "                 \n",
    "countries_long = [-8.224454, -74.297333, 12.56738, 2.213749, 10.451526, -3.435973,  \n",
    "                 -3.74922, -51.92528, -95.712891, -78.183406]\n",
    "repeticiones = [143, 173, 177, 221, 253, 316, 499, 501, 784, 1206]\n",
    "\n",
    "import matplotlib.pyplot as plot\n",
    "%matplotlib inline\n",
    "\n",
    "plot.scatter(countries_lat, countries_long, repeticiones) \n",
    "plot.colorbar()\n",
    "ard = dict(arrowstyle=\"->\")\n",
    "#SE PIDE SEÑALAR 3 PAISES PERO YO PREFIERO NOMBRAR A TODOS\n",
    "plot.annotate(\"ECUADOR\", xy = (-1.831239, -78.183406 ), \n",
    "             xytext = (0,-70), arrowprops = ard) \n",
    "plot.annotate(\"USA\", xy= (37.09024, -95.712891), \n",
    "            xytext = (42, -80), arrowprops = ard)\n",
    "plot.annotate(\"COLOMBIA\", xy= (4.570868,-74.297333 ), \n",
    "            xytext = (5, -80), arrowprops = ard)\n",
    "plot.annotate(\"ITALIA\", xy= ( 41.87194,12.56738 ), \n",
    "            xytext = (35, 2), arrowprops = ard)\n",
    "plot.annotate(\"ESPAÑA\", xy= ( 40.463667,-3.74922 ), \n",
    "            xytext = (23, 2), arrowprops = ard)\n",
    "plot.annotate(\"PORTUGAL\", xy= (39.399872,-8.224454 ), \n",
    "            xytext = (30,  -19), arrowprops = ard)\n",
    "plot.annotate(\"FRANCIA\", xy= (46.227638,2.213749 ), \n",
    "            xytext = (46,  -10), arrowprops = ard)\n",
    "plot.annotate(\"GERMANY\", xy= (51.165691,10.451526 ), \n",
    "            xytext = (52, 3), arrowprops = ard)\n",
    "plot.annotate(\"UNITED KINGDOM\", xy= (55.378051,-3.435973 ), \n",
    "            xytext = (48, -16), arrowprops = ard)\n",
    "plot.annotate(\"BRAZIL\", xy= (-14.235004,-51.92528 ), \n",
    "            xytext = (-10, -40), arrowprops = ard)\n",
    "params = plot.gcf()\n",
    "plSize = params.get_size_inches()\n",
    "params.set_size_inches( (plSize[0] * 3, plSize[1] * 3) )\n",
    "plot.xlabel('Longitud')\n",
    "plot.ylabel('Latitud')\n",
    "plot.title('REPRESENTACION GRAFICA')\n",
    "plot.show()"
   ]
  },
  {
   "cell_type": "markdown",
   "metadata": {},
   "source": [
    "## Ejercicio 5 [1 punto]\n",
    "\n",
    "Interprete los resultados del **ejercicio 4**\n",
    "#### Literal (a)\n",
    "- Se observa en el histograma un crecimiento exponencial del numero de articulos de \"Ecuador Genomics\" con una Desviación estandar de:  6.80.\n",
    "\n",
    "#### Literal (b)\n",
    "- Se observa en el cuartil 1 un 25% de publicaciones de autor por articulo, en el cuartil 2 un 75% publicaciones de autor por articulo aproximadamente.\n",
    "\n",
    "#### Literal (c)\n",
    "\n",
    "- En el grafico de los paises se observa 10 burbujas con diferentes dimensiones representando el mayor numero de autores, siendo Ecuador con el mayor munero de incidencias nombradas, tambien se etiqueta a cada burbuja con su respectivo nombre acompañado de una flecha.\n"
   ]
  },
  {
   "cell_type": "markdown",
   "metadata": {},
   "source": [
    "## Ejercicio 6 [2 puntos]\n",
    "\n",
    "Para algún gen de interés, realice lo siguiente: \n",
    "\n",
    "1. Una búsqueda en la página del [NCBI nucleotide](https://www.ncbi.nlm.nih.gov/nucleotide/).\n",
    "\n",
    "2. Descargue el ```Accession List``` de su búsqueda.\n",
    "\n",
    "3. Cargue el ```Accession List``` en este notebook y haga una descarga de la data tipo ```genbank``` utilizando los diez primeros IDs de accesión. \n",
    "\n",
    "4. Arme un árbol filogenético para los resultados del paso 3.\n",
    "\n",
    "5. Interprete el árbol del paso 4. "
   ]
  },
  {
   "cell_type": "code",
   "execution_count": 31,
   "metadata": {},
   "outputs": [
    {
     "name": "stdout",
     "output_type": "stream",
     "text": [
      "\"C:\\Program Files (x86)\\ClustalW2\\clustalw2.exe\" -infile=Data/sequence.fasta\n"
     ]
    }
   ],
   "source": [
    "from Bio import SeqIO \n",
    "from Bio import AlignIO\n",
    "from Bio import Phylo\n",
    "with open(\"Data/sequence.seq\",\"r\"):   \n",
    "    IDs = [\"AB007455.1\",\"AB007456.1\",\"AB007457.1\",\"AB007458.1\",\"AB033632.1\",\"AB110209.1\",\"AB110214.2\",\"AB168988.1\",\"AB170355.2\",\"AB511810.1\"]\n",
    "    from Bio import Entrez      \n",
    "from Bio import Entrez\n",
    "Entrez.email = \"ruth.guevara@est.ikiam.edu.ec\"\n",
    "ofile = open('Data/sequence.gb','w')\n",
    "with Entrez.efetch( db=\"nucleotide\", rettype=\"gb\", retmode= \"text\", id= IDs) as handle:\n",
    "    for seq_record in SeqIO.parse(handle, \"gb\"): \n",
    "        ofile.write(\">\"+str(seq_record.id)+str(seq_record.description[:50])+'\\n')\n",
    "        ofile.write(str(seq_record.seq)+'\\n')\n",
    "        ofile.write('\\n')\n",
    "archivo_1=open('Data/sequence.fasta','w')\n",
    "with open(\"Data/sequence.gb\",'r') as genbank: \n",
    "    d=genbank.read()\n",
    "    for line in d:\n",
    "        archivo_1.write(str(line))\n",
    "#Alineamiento de secuencia en ClustalW \n",
    "from Bio.Align.Applications import ClustalwCommandline\n",
    "import os\n",
    "clustalw_exe = r\"C:\\Program Files (x86)\\ClustalW2\\clustalw2.exe\"\n",
    "clustalw_cline = ClustalwCommandline(clustalw_exe, infile = \"Data/sequence.fasta\")\n",
    "assert os.path.isfile(clustalw_exe), \"Clustal_W executable is missing or not found\" \n",
    "stdout, stderr = clustalw_cline()\n",
    "print(clustalw_cline) "
   ]
  },
  {
   "cell_type": "code",
   "execution_count": 17,
   "metadata": {},
   "outputs": [
    {
     "name": "stdout",
     "output_type": "stream",
     "text": [
      "Alignment with 10 rows and 2802 columns\n",
      "--------------------------------------------...--- AB110209.1Homo\n",
      "TACCGGGGGCCCACTGTCTGGGGAGGGGCGCGCGCGAGCCCAGG...--- AB110214.2Homo\n",
      "--------------------------------------------...--- AB033632.1Meriones\n",
      "--------------------------------------------...GA- AB511810.1Homo\n",
      "--------------------------------------------...--- AB007455.1Homo\n",
      "--------------------------------------------...--- AB007456.1Homo\n",
      "--------------------------------------------...--- AB007457.1Homo\n",
      "--------------------------------------------...--- AB007458.1Homo\n",
      "--------------------------------------------...--- AB170355.2Macaca\n",
      "--------------------------------------------...AAA AB168988.1Macaca\n",
      "                                                 _ AB007455.1Homo\n",
      "                                            ____|\n",
      "                                           |    | AB007456.1Homo\n",
      "  _________________________________________|\n",
      " |                                         |     , AB007457.1Homo\n",
      " |                                         |_____|\n",
      " |                                               |__ AB007458.1Homo\n",
      " |\n",
      " |         _________________________________________ AB033632.1Meriones\n",
      " |   _____|\n",
      "_|  |     |                              _________________ AB110209.1Homo\n",
      " | _|     |_____________________________|\n",
      " || |                                   | AB110214.2Homo\n",
      " || |\n",
      " || |____________________________ AB511810.1Homo\n",
      " ||\n",
      " ||_________________________________________________ AB170355.2Macaca\n",
      " |\n",
      " |__________________________________________________ AB168988.1Macaca\n",
      "\n",
      "<class 'Bio.Align.MultipleSeqAlignment'>\n",
      "AB110209.1Homo\t0\n",
      "AB110214.2Homo\t0.5114204139900071\t0\n",
      "AB033632.1Meriones\t0.3815132048536759\t0.8194147037830122\t0\n",
      "AB511810.1Homo\t0.6488222698072805\t0.8872234118486795\t0.6099214846538187\t0\n",
      "AB007455.1Homo\t0.5017844396859386\t0.8886509635974305\t0.37437544610992146\t0.6991434689507494\t0\n",
      "AB007456.1Homo\t0.4875089221984297\t0.8975731620271235\t0.3593861527480371\t0.7041399000713776\t0.051748750892219864\t0\n",
      "AB007457.1Homo\t0.4735902926481085\t0.9100642398286938\t0.35153461812990716\t0.7123483226266952\t0.1359743040685225\t0.08422555317630265\t0\n",
      "AB007458.1Homo\t0.4814418272662384\t0.9179157744468237\t0.3586723768736617\t0.7130620985010707\t0.14846538187009284\t0.09671663097787297\t0.025339043540328343\t0\n",
      "AB170355.2Macaca\t0.5653104925053534\t0.8190578158458244\t0.5845824411134903\t0.6163454675231977\t0.622412562455389\t0.6363311920057102\t0.6484653818700927\t0.6538187009279086\t0\n",
      "AB168988.1Macaca\t0.7173447537473233\t0.8054960742326909\t0.7430406852248395\t0.7312633832976445\t0.7758743754461099\t0.7962169878658101\t0.8165596002855103\t0.8204853675945754\t0.6402569593147751\t0\n",
      "\tAB110209.1Homo\tAB110214.2Homo\tAB033632.1Meriones\tAB511810.1Homo\tAB007455.1Homo\tAB007456.1Homo\tAB007457.1Homo\tAB007458.1Homo\tAB170355.2Macaca\tAB168988.1Macaca\n"
     ]
    }
   ],
   "source": [
    "# Se lee el alineamiento crea en Clustal\n",
    "ClustalAlign = AlignIO.read(\"Data/sequence.aln\", \"clustal\")\n",
    "print(ClustalAlign)\n",
    "# Se Genera un Dendogram (Tree)\n",
    "from Bio import Phylo\n",
    "tree = Phylo.read(\"Data/sequence.dnd\", \"newick\")\n",
    "Phylo.draw_ascii(tree)\n",
    "#Para la construcción del árbol cargo mi alineamiento\n",
    "with open(\"Data/sequence.aln\",\"r\") as aln: \n",
    "    alignment = AlignIO.read(aln,\"clustal\")\n",
    "print(type(alignment))\n",
    "\n",
    "# Se inicia la calculadora de Distancias y del Modelo \n",
    "from Bio.Phylo.TreeConstruction import DistanceCalculator \n",
    "calculator = DistanceCalculator('identity')\n",
    "\n",
    "# Para la Matriz de Distancias \n",
    "distance_matrix = calculator.get_distance(alignment)\n",
    "print(distance_matrix)"
   ]
  },
  {
   "cell_type": "code",
   "execution_count": 19,
   "metadata": {},
   "outputs": [
    {
     "name": "stdout",
     "output_type": "stream",
     "text": [
      "Tree(rooted=True)\n",
      "    Clade(branch_length=0, name='Inner8')\n",
      "        Clade(branch_length=0.014966987865810133, name='Inner7')\n",
      "            Clade(branch_length=0.05075615631691638, name='Inner6')\n",
      "                Clade(branch_length=0.097776142041399, name='Inner5')\n",
      "                    Clade(branch_length=0.1297120360456817, name='AB110209.1Homo')\n",
      "                    Clade(branch_length=0.38170837794432544, name='AB110214.2Homo')\n",
      "                Clade(branch_length=0.11365765524625276, name='Inner4')\n",
      "                    Clade(branch_length=0.16241077801570292, name='Inner3')\n",
      "                        Clade(branch_length=0.05027658815132047, name='Inner1')\n",
      "                            Clade(branch_length=0.016283012134189867, name='AB007458.1Homo')\n",
      "                            Clade(branch_length=0.009056031406138476, name='AB007457.1Homo')\n",
      "                        Clade(branch_length=0.027524982155603173, name='Inner2')\n",
      "                            Clade(branch_length=0.02352911185887624, name='AB007456.1Homo')\n",
      "                            Clade(branch_length=0.028219639033343624, name='AB007455.1Homo')\n",
      "                    Clade(branch_length=0.14040863668808, name='AB033632.1Meriones')\n",
      "            Clade(branch_length=0.33870895788722344, name='AB511810.1Homo')\n",
      "        Clade(branch_length=0.26271413276231265, name='AB170355.2Macaca')\n",
      "        Clade(branch_length=0.37754282655246246, name='AB168988.1Macaca')\n"
     ]
    },
    {
     "name": "stderr",
     "output_type": "stream",
     "text": [
      "<ipython-input-19-808717c23d50>:24: MatplotlibDeprecationWarning: Adding an axes using the same arguments as a previous axes currently reuses the earlier instance.  In a future version, a new instance will always be created and returned.  Meanwhile, this warning can be suppressed, and the future behavior ensured, by passing a unique label to each axes instance.\n",
      "  axes = fig.add_subplot(1, 1, 1)\n"
     ]
    },
    {
     "data": {
      "image/png": "[encoded data removed]",
      "text/plain": [
       "<Figure size 836x1596 with 1 Axes>"
      ]
     },
     "metadata": {
      "needs_background": "light"
     },
     "output_type": "display_data"
    }
   ],
   "source": [
    "# Se inicia con la realizacion del arbol Filogenetico\n",
    "from Bio.Phylo.TreeConstruction import DistanceTreeConstructor\n",
    "constructor = DistanceTreeConstructor(calculator)\n",
    "# Se construye el arbol \n",
    "staphy1_tree = constructor.build_tree(alignment)\n",
    "staphy1_tree.rooted = True\n",
    "print(staphy1_tree)\n",
    "# Para guardar el arbol \n",
    "Phylo.write(staphy1_tree, \"Data/sequence.xml\", \"phyloxml\")\n",
    "\n",
    "staphy1_tree = Phylo.read(file=\"Data/sequence.xml\", format= \"phyloxml\")\n",
    "\n",
    "# Para el arbol  en Matplotlib\n",
    "import matplotlib\n",
    "import matplotlib.pyplot as plt\n",
    "\n",
    "#Para una mejor visualización  \n",
    "fig = plt.figure(figsize=(11, 21), dpi=76) \n",
    "matplotlib.rc('font', size=13)              \n",
    "matplotlib.rc('xtick', labelsize=11)       \n",
    "matplotlib.rc('ytick', labelsize=11) \n",
    "plt.title(\"Árbol filogenético\")   \n",
    "\n",
    "axes = fig.add_subplot(1, 1, 1)\n",
    "Phylo.draw(staphy1_tree, axes=axes)\n",
    "fig.savefig(\"Data/sequence_cladogram.png\")"
   ]
  },
  {
   "cell_type": "markdown",
   "metadata": {},
   "source": [
    "**Escriba aquí la interpretación del árbol**\n",
    "El TP53 es un gen que ayuda a detener el crecimiento de los tumores. Se lo conoce como un supresor tumoral. Detiene las células para que no se dividan demasiado rápido. La mutación TP53 se puede heredar de los padres o puede ocurrir más adelante en la vida por efectos del ambiente o por un error que ocurre en el cuerpo durante la división celular.La mutación TP53 hereditaria se conoce como síndrome de Li-Fraumeni que es un problema genético raro que puede aumentar el riesgo de ciertos tipos de cáncer. Estos cánceres incluyen el cáncer de seno, el cáncer de hueso, la leucemia y los cánceres de tejidos blandos, también llamados sarcomas.\n",
    "Por otro lado, en la figura del árbol filogenético se observa la ramificacion del gen TP53, dejando a la vista que la secuencia AB168988.1Macaca y AB170355.2Macaca estan lejanamente emperejadas con AB110209.1Homo y AB110214.2Homo, tambien se observa que las secuencias AB007455.1Homo y AB007456.1Homo parten del mismo nodo interno, haciendolos semejantes.Se puede comcluir de manera rapida que la secuencia AB007458.1Homo con relacion a la secuencia AB033632.1Meriones se encuentran en un lejano emparejamiento. "
   ]
  },
  {
   "cell_type": "markdown",
   "metadata": {},
   "source": [
    "## Ejercicio 7 [1 punto]\n",
    "\n",
    "\n",
    "1. Cree en GitHub un repositorio de nombre ```GBI6_ExamenPython```. \n",
    "2. Cree un archivo ```Readme.md``` que debe tener lo siguiente: \n",
    "- Datos personales\n",
    "- Características del computador\n",
    "- Versión de Python/Anaconda y de cada uno de los módulos/paquetes y utilizados\n",
    "- Explicación de la data utilizada\n",
    "\n",
    "3. Cree un directorio de nombre ```data``` donde deben estar guardado la data utilizada \n",
    "4. Realice al menos 1 control de la versión (commits) por cada ejercicio (del 1 al 6), con un mensaje que inicie como: \n",
    "\n",
    "```sh \n",
    "Carlitos Alimaña ha realizado .....  \n",
    "```"
   ]
  },
  {
   "cell_type": "code",
   "execution_count": null,
   "metadata": {},
   "outputs": [],
   "source": []
  }
 ],
 "metadata": {
  "kernelspec": {
   "display_name": "Python 3",
   "language": "python",
   "name": "python3"
  },
  "language_info": {
   "codemirror_mode": {
    "name": "ipython",
    "version": 3
   },
   "file_extension": ".py",
   "mimetype": "text/x-python",
   "name": "python",
   "nbconvert_exporter": "python",
   "pygments_lexer": "ipython3",
   "version": "3.8.8"
  },
  "latex_envs": {
   "LaTeX_envs_menu_present": true,
   "autoclose": false,
   "autocomplete": true,
   "bibliofile": "biblio.bib",
   "cite_by": "apalike",
   "current_citInitial": 1,
   "eqLabelWithNumbers": true,
   "eqNumInitial": 1,
   "hotkeys": {
    "equation": "Ctrl-E",
    "itemize": "Ctrl-I"
   },
   "labels_anchors": false,
   "latex_user_defs": false,
   "report_style_numbering": false,
   "user_envs_cfg": false
  },
  "toc": {
   "base_numbering": 1,
   "nav_menu": {},
   "number_sections": true,
   "sideBar": false,
   "skip_h1_title": false,
   "title_cell": "Table of Contents",
   "title_sidebar": "Contents",
   "toc_cell": false,
   "toc_position": {
    "height": "1152.67px",
    "left": "41px",
    "top": "110px",
    "width": "253.458px"
   },
   "toc_section_display": true,
   "toc_window_display": false
  },
  "varInspector": {
   "cols": {
    "lenName": 16,
    "lenType": 16,
    "lenVar": 40
   },
   "kernels_config": {
    "python": {
     "delete_cmd_postfix": "",
     "delete_cmd_prefix": "del ",
     "library": "var_list.py",
     "varRefreshCmd": "print(var_dic_list())"
    },
    "r": {
     "delete_cmd_postfix": ") ",
     "delete_cmd_prefix": "rm(",
     "library": "var_list.r",
     "varRefreshCmd": "cat(var_dic_list()) "
    }
   },
   "types_to_exclude": [
    "module",
    "function",
    "builtin_function_or_method",
    "instance",
    "_Feature"
   ],
   "window_display": false
  }
 },
 "nbformat": 4,
 "nbformat_minor": 4
}
